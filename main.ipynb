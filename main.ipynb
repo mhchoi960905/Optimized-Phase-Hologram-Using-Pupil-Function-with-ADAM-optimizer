{
 "cells": [
  {
   "attachments": {},
   "cell_type": "markdown",
   "metadata": {},
   "source": [
    "## Leveraging High-Order Diffractions of Phase Hologram using Pupil Function for Enhanced Holographic Display\n",
    "### 2023-06-19 \n",
    "### Myeong-Ho Choi from Inha university\n",
    " "
   ]
  },
  {
   "attachments": {},
   "cell_type": "markdown",
   "metadata": {},
   "source": [
    "1. Load libraries"
   ]
  },
  {
   "cell_type": "code",
   "execution_count": 1,
   "metadata": {},
   "outputs": [],
   "source": [
    "import torch\n",
    "from PIL import Image\n",
    "import numpy as np\n",
    "import torch.nn as nn\n",
    "import torch.nn.functional as F\n",
    "import matplotlib.pyplot as plt"
   ]
  },
  {
   "attachments": {},
   "cell_type": "markdown",
   "metadata": {},
   "source": [
    "2. def some functions"
   ]
  },
  {
   "cell_type": "code",
   "execution_count": null,
   "metadata": {},
   "outputs": [],
   "source": [
    "def get_img_to_Tensor(file_location, resized_resolution=None, rgb2gray=None):\n",
    "    img = Image.open(file_location)\n",
    "\n",
    "    tf_transforms = []\n",
    "\n",
    "    if rgb2gray:\n",
    "        tf_transforms.append(F.Grayscale())\n",
    "\n",
    "    if resized_resolution is not None:\n",
    "        tf_transforms.append(F.Resize(resized_resolution))\n",
    "\n",
    "    tf_transforms.append(F.ToTensor())\n",
    "\n",
    "    tf = F.Compose(tf_transforms)\n",
    "\n",
    "    img_tensor = tf(img)\n",
    "    #returns tensor of [Channel, Height, Width]\n",
    "    return img_tensor"
   ]
  }
 ],
 "metadata": {
  "kernelspec": {
   "display_name": "torchtest1",
   "language": "python",
   "name": "python3"
  },
  "language_info": {
   "codemirror_mode": {
    "name": "ipython",
    "version": 3
   },
   "file_extension": ".py",
   "mimetype": "text/x-python",
   "name": "python",
   "nbconvert_exporter": "python",
   "pygments_lexer": "ipython3",
   "version": "3.10.6"
  },
  "orig_nbformat": 4
 },
 "nbformat": 4,
 "nbformat_minor": 2
}
